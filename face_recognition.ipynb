import cv2
import numpy as np
import os
from keras.models import load_model
import tensorflow as tf

# Load pre-trained FaceNet model
facenet_model = load_model('facenet_keras.h5')

# Load OpenCV's pre-trained face detector
face_cascade = cv2.CascadeClassifier(cv2.data.haarcascades + 'haarcascade_frontalface_default.xml')

def preprocess_face(img):
    img = cv2.resize(img, (160, 160))  # FaceNet requires 160x160 input size
    img = img.astype('float32') / 255.0
    img = np.expand_dims(img, axis=0)
    return img

def get_face_embedding(model, face_pixels):
    face_pixels = preprocess_face(face_pixels)
    return model.predict(face_pixels)[0]

def save_embeddings(name, embedding, file='embeddings.npz'):
    try:
        data = np.load(file, allow_pickle=True)
        known_faces = list(data['embeddings'])
        known_names = list(data['names'])
    except FileNotFoundError:
        known_faces, known_names = [], []

    known_faces.append(embedding)
    known_names.append(name)

    np.savez(file, embeddings=np.array(known_faces), names=np.array(known_names))
    print(f"Saved {name}'s face embedding.")

def load_embeddings(file='embeddings.npz'):
    try:
        data = np.load(file, allow_pickle=True)
        return list(data['embeddings']), list(data['names'])
    except FileNotFoundError:
        return [], []

def recognize_face(frame, known_faces, known_names):
    gray = cv2.cvtColor(frame, cv2.COLOR_BGR2GRAY)
    faces = face_cascade.detectMultiScale(gray, 1.3, 5)
    
    for (x, y, w, h) in faces:
        face = frame[y:y+h, x:x+w]
        embedding = get_face_embedding(facenet_model, face)
        
        # Compare embeddings with known faces (using simple L2 distance for now)
        min_dist = float('inf')
        identity = "Unknown"
        
        for i, known_embedding in enumerate(known_faces):
            dist = np.linalg.norm(embedding - known_embedding)
            if dist < min_dist:
                min_dist = dist
                identity = known_names[i]
                
        color = (0, 255, 0) if identity != "Unknown" else (0, 0, 255)
        cv2.rectangle(frame, (x, y), (x+w, y+h), color, 2)
        cv2.putText(frame, identity, (x, y-10), cv2.FONT_HERSHEY_SIMPLEX, 0.8, color, 2)
    
    return frame

# Load stored embeddings
known_faces, known_names = load_embeddings()

# Open webcam for face recognition and capturing new faces
cap = cv2.VideoCapture(0)

while cap.isOpened():
    ret, frame = cap.read()
    if not ret:
        break
    
    frame = recognize_face(frame, known_faces, known_names)
    cv2.imshow('Face Recognition', frame)
    
    key = cv2.waitKey(1) & 0xFF
    if key == ord('q'):
        break
    elif key == ord('s'):
        name = input("Enter the person's name: ")
        face_embedding = get_face_embedding(facenet_model, frame)
        save_embeddings(name, face_embedding)
        known_faces, known_names = load_embeddings()

cap.release()
cv2.destroyAllWindows()
